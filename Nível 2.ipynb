{
 "cells": [
  {
   "cell_type": "markdown",
   "id": "84a182ac-a120-4c62-b183-63223c22eaf7",
   "metadata": {},
   "source": [
    "**1005\n",
    "Média 1**"
   ]
  },
  {
   "cell_type": "markdown",
   "id": "e9932ed4-e8d8-4acf-8511-d8f6a1638818",
   "metadata": {},
   "source": [
    "Leia 2 valores de ponto flutuante de dupla precisão A e B, que correspondem a 2 notas de um aluno. A seguir, calcule a média do aluno, sabendo que a nota A tem peso 3.5 e a nota B tem peso 7.5 (A soma dos pesos portanto é 11). Assuma que cada nota pode ir de 0 até 10.0, sempre com uma casa decimal.\n",
    "Imprima a mensagem \"MEDIA\" e a média do aluno, com 5 dígitos após o ponto decimal"
   ]
  },
  {
   "cell_type": "code",
   "execution_count": 1,
   "id": "30ca166a-c01d-47fb-a1d5-a506394be012",
   "metadata": {},
   "outputs": [
    {
     "name": "stdin",
     "output_type": "stream",
     "text": [
      " 5\n",
      " 7.1\n"
     ]
    }
   ],
   "source": [
    "A = float(input())\n",
    "B = float(input())"
   ]
  },
  {
   "cell_type": "code",
   "execution_count": 3,
   "id": "d6f7de1f-6ea5-47f7-adb4-6a74b0d1842e",
   "metadata": {},
   "outputs": [
    {
     "name": "stdout",
     "output_type": "stream",
     "text": [
      "MEDIA = 6.43182\n"
     ]
    }
   ],
   "source": [
    "media = ((A * 3.5) + (B * 7.5)) / 11\n",
    "print(f'MEDIA = {media:.5f}')"
   ]
  },
  {
   "cell_type": "markdown",
   "id": "b95244c0-d6f0-47b2-b3c1-1a9b92e19422",
   "metadata": {},
   "source": [
    "----------------------"
   ]
  },
  {
   "cell_type": "markdown",
   "id": "ffc5f1d9-46dc-438f-9662-08c0bd23f192",
   "metadata": {},
   "source": [
    "**1008\n",
    "Salário**"
   ]
  },
  {
   "cell_type": "markdown",
   "id": "cd08ae70-a819-44ab-88ad-f9bb55694c32",
   "metadata": {},
   "source": [
    "Escreva um programa que leia o número de um funcionário, seu número de horas trabalhadas, o valor que recebe por hora e calcula o salário desse funcionário. A seguir, mostre o número e o salário do funcionário, com duas casas decimais. "
   ]
  },
  {
   "cell_type": "code",
   "execution_count": 4,
   "id": "3559b7dc-6bf0-46e8-83a4-c4fd819a5779",
   "metadata": {},
   "outputs": [
    {
     "name": "stdin",
     "output_type": "stream",
     "text": [
      " 6\n",
      " 145\n",
      " 15.55\n"
     ]
    }
   ],
   "source": [
    "numero = int(input())\n",
    "horas_trabalhadas = int(input())\n",
    "valor_hora = float(input())"
   ]
  },
  {
   "cell_type": "code",
   "execution_count": 6,
   "id": "312a1165-35ba-4926-b368-dbe7755e1e11",
   "metadata": {},
   "outputs": [
    {
     "name": "stdout",
     "output_type": "stream",
     "text": [
      "NUMBER = 6\n",
      "SALARY = U$ 2254.75\n"
     ]
    }
   ],
   "source": [
    "salario = horas_trabalhadas * valor_hora\n",
    "print(f'NUMBER = {numero}\\nSALARY = U$ {salario:.2f}')"
   ]
  },
  {
   "cell_type": "markdown",
   "id": "3833b522-cda8-4abe-8073-5e0f58e6fbeb",
   "metadata": {},
   "source": [
    "---------------"
   ]
  },
  {
   "cell_type": "markdown",
   "id": "bcea0bd7-ddf6-46ff-ba5b-23d420d01865",
   "metadata": {},
   "source": [
    "**1009\n",
    "Salário com Bônus**"
   ]
  },
  {
   "cell_type": "markdown",
   "id": "b94ac899-4f2b-4460-bec1-6408686f475b",
   "metadata": {},
   "source": [
    "Faça um programa que leia o nome de um vendedor, o seu salário fixo e o total de vendas efetuadas por ele no mês (em dinheiro). Sabendo que este vendedor ganha 15% de comissão sobre suas vendas efetuadas, informar o total a receber no final do mês, com duas casas decimais."
   ]
  },
  {
   "cell_type": "code",
   "execution_count": 7,
   "id": "0dd691d9-7653-450a-b131-c97514def380",
   "metadata": {},
   "outputs": [
    {
     "name": "stdin",
     "output_type": "stream",
     "text": [
      " JOAO\n",
      " 500\n",
      " 1230.30\n"
     ]
    }
   ],
   "source": [
    "nome = input()\n",
    "salario_fixo = float(input())\n",
    "vendas = float(input())"
   ]
  },
  {
   "cell_type": "code",
   "execution_count": 8,
   "id": "1a20adfd-af38-49e8-9c69-2521ddfe4ce4",
   "metadata": {},
   "outputs": [
    {
     "name": "stdout",
     "output_type": "stream",
     "text": [
      "TOTAL = R$ 684.54\n"
     ]
    }
   ],
   "source": [
    "salario = salario_fixo + (vendas * (15 / 100))\n",
    "print(f'TOTAL = R$ {salario:.2f}')"
   ]
  },
  {
   "cell_type": "markdown",
   "id": "8e204399-6348-4a6c-b862-437836c15392",
   "metadata": {},
   "source": [
    "----------------"
   ]
  },
  {
   "cell_type": "markdown",
   "id": "29c034be-435b-4757-a817-2af6bfaf980c",
   "metadata": {},
   "source": [
    "**1011\n",
    "Esfera**"
   ]
  },
  {
   "cell_type": "markdown",
   "id": "254706e1-b381-4b32-a8bf-323d430b962f",
   "metadata": {},
   "source": [
    "Faça um programa que calcule e mostre o volume de uma esfera sendo fornecido o valor de seu raio (R). A fórmula para calcular o volume é: (4/3) * pi * R3. Considere (atribua) para pi o valor 3.14159. O valor deverá ser apresentado com 3 casas após o ponto."
   ]
  },
  {
   "cell_type": "code",
   "execution_count": 10,
   "id": "b60964ce-f5c1-49cb-8bec-21073fd5e016",
   "metadata": {},
   "outputs": [
    {
     "name": "stdin",
     "output_type": "stream",
     "text": [
      " 3\n"
     ]
    }
   ],
   "source": [
    "raio = int(input())"
   ]
  },
  {
   "cell_type": "code",
   "execution_count": 4,
   "id": "82ccb497-6563-43b8-98c2-01ee16015c7e",
   "metadata": {},
   "outputs": [
    {
     "name": "stdout",
     "output_type": "stream",
     "text": [
      "VOLUME = 113.097\n"
     ]
    }
   ],
   "source": [
    "calculo = 4 / 3 * 3.14159 * (raio ** 3)\n",
    "print(f'VOLUME = {calculo:.3f}')"
   ]
  },
  {
   "cell_type": "markdown",
   "id": "79a6e674-821c-4ed5-a648-8e996ea93952",
   "metadata": {},
   "source": [
    "--------------------------"
   ]
  },
  {
   "cell_type": "markdown",
   "id": "94ec21b3-294c-49c3-96f2-35f4eb0099e7",
   "metadata": {},
   "source": [
    "**1012\n",
    "Área**"
   ]
  },
  {
   "cell_type": "markdown",
   "id": "4c44ab35-16d3-479f-8b69-cacacdd6c75c",
   "metadata": {},
   "source": [
    "Escreva um programa que leia três valores com ponto flutuante de dupla precisão: A, B e C. Em seguida, calcule e mostre, com 3 dígitos após o ponto decimal:\n",
    "- **a)** a área do triângulo retângulo que tem A por base e C por altura.\n",
    "- **b)** a área do círculo de raio C. (pi = 3.14159)\n",
    "- **c)** a área do trapézio que tem A e B por bases e C por altura.\n",
    "- **d)** a área do quadrado que tem lado B.\n",
    "- **e)** a área do retângulo que tem lados A e B.\n"
   ]
  },
  {
   "cell_type": "code",
   "execution_count": 6,
   "id": "f52cf322-fe8a-4cc0-b5f7-d5ad3bf2adc4",
   "metadata": {},
   "outputs": [
    {
     "name": "stdin",
     "output_type": "stream",
     "text": [
      " 3.0 4.0 5.2\n"
     ]
    }
   ],
   "source": [
    "A, B, C = map(float, input().split()) "
   ]
  },
  {
   "cell_type": "code",
   "execution_count": 7,
   "id": "9e8c46c6-1ee5-42ac-8d61-761310ddfe06",
   "metadata": {},
   "outputs": [],
   "source": [
    "triangulo = (A * C) / 2\n",
    "circulo = 3.14159 * (C ** 2)\n",
    "trapezio = ((A + B) * C) / 2\n",
    "quadrado = B ** 2\n",
    "retangulo = A * B"
   ]
  },
  {
   "cell_type": "code",
   "execution_count": 9,
   "id": "b959c075-e3c0-4cdc-90b1-f3ec0d7c8115",
   "metadata": {},
   "outputs": [
    {
     "name": "stdout",
     "output_type": "stream",
     "text": [
      "TRIANGULO: 7.800\n",
      "CIRCULO: 84.949\n",
      "TRAPEZIO: 18.200\n",
      "QUADRADO: 16.000\n",
      "RETANGULO: 12.000\n"
     ]
    }
   ],
   "source": [
    "print(f'TRIANGULO: {triangulo:.3f}\\nCIRCULO: {circulo:.3f}\\nTRAPEZIO: {trapezio:.3f}\\nQUADRADO: {quadrado:.3f}\\nRETANGULO: {retangulo:.3f}')"
   ]
  },
  {
   "cell_type": "markdown",
   "id": "53c9482f-9049-4cb7-a8ea-87a2f594705a",
   "metadata": {},
   "source": [
    "--------------------"
   ]
  },
  {
   "cell_type": "markdown",
   "id": "fb509c93-4cb4-40de-b72d-53c0a24a8bc2",
   "metadata": {},
   "source": [
    "**1020\n",
    "Idade em Dias**"
   ]
  },
  {
   "cell_type": "markdown",
   "id": "762b49c3-1b24-4bac-99f4-c744a60d9ade",
   "metadata": {},
   "source": [
    "Leia um valor inteiro correspondente à idade de uma pessoa em dias e informe-a em anos, meses e dias\n",
    "<br>\n",
    "Obs.: apenas para facilitar o cálculo, considere todo ano com 365 dias e todo mês com 30 dias. Nos casos de teste nunca haverá uma situação que permite 12 meses e alguns dias, como 360, 363 ou 364. Este é apenas um exercício com objetivo de testar raciocínio matemático simples."
   ]
  },
  {
   "cell_type": "code",
   "execution_count": 8,
   "id": "c2dc626e-cd1a-41c5-b359-c92b1cc927cd",
   "metadata": {},
   "outputs": [
    {
     "name": "stdin",
     "output_type": "stream",
     "text": [
      " 400\n"
     ]
    }
   ],
   "source": [
    "valor = int(input())"
   ]
  },
  {
   "cell_type": "code",
   "execution_count": 9,
   "id": "79c56c95-757a-40c3-9c57-4d1de722a7a0",
   "metadata": {},
   "outputs": [
    {
     "name": "stdout",
     "output_type": "stream",
     "text": [
      "1 ano(s)\n",
      "1 mes(es)\n",
      "5 dia(s)\n"
     ]
    }
   ],
   "source": [
    "anos = valor // 365\n",
    "meses = (valor % 365) // 30\n",
    "dias = (valor % 365) % 30\n",
    "print(f'{anos} ano(s)\\n{meses} mes(es)\\n{dias} dia(s)')"
   ]
  },
  {
   "cell_type": "markdown",
   "id": "24c8bcd8-7fdc-4c11-939a-6581e59f7a89",
   "metadata": {},
   "source": [
    "-------------"
   ]
  },
  {
   "cell_type": "markdown",
   "id": "ab8ee963-be49-4a9e-9965-c66376e40348",
   "metadata": {},
   "source": [
    "**1035\n",
    "Teste de Seleção 1**"
   ]
  },
  {
   "cell_type": "markdown",
   "id": "e74a67b0-d7f5-42b6-9475-f31060d2a6c5",
   "metadata": {},
   "source": [
    "Leia 4 valores inteiros A, B, C e D. A seguir, se B for maior do que C e se D for maior do que A, e a soma de C com D for maior que a soma de A e B e se C e D, ambos, forem positivos e se a variável A for par escrever a mensagem \"Valores aceitos\", senão escrever \"Valores nao aceitos\"."
   ]
  },
  {
   "cell_type": "code",
   "execution_count": 28,
   "id": "5f9b3b75-f3c0-4f45-b637-ff46e905cd15",
   "metadata": {},
   "outputs": [
    {
     "name": "stdin",
     "output_type": "stream",
     "text": [
      " 5 6 7 8\n"
     ]
    }
   ],
   "source": [
    "A, B, C, D = map(int, input().split())"
   ]
  },
  {
   "cell_type": "code",
   "execution_count": 30,
   "id": "ce778935-410e-4d4b-9b6e-f4931309f873",
   "metadata": {},
   "outputs": [
    {
     "name": "stdout",
     "output_type": "stream",
     "text": [
      "Valores nao aceitos\n"
     ]
    }
   ],
   "source": [
    "condicoes = [(B > C), (D > A), ((C + D) > (A + B)), (C >= 0 & D >= 0), (A % 2 == 0)]\n",
    "if False in (condicoes):\n",
    "    print('Valores nao aceitos')\n",
    "else:\n",
    "    print('Valores aceitos')"
   ]
  },
  {
   "cell_type": "markdown",
   "id": "0439e71a-0d44-479f-95f0-28d1505351eb",
   "metadata": {},
   "source": [
    "-----------"
   ]
  },
  {
   "cell_type": "markdown",
   "id": "81a398ac-7173-496b-8356-d211d8eeed19",
   "metadata": {},
   "source": [
    "**1042\n",
    "Sort Simples**"
   ]
  },
  {
   "cell_type": "markdown",
   "id": "e604be44-d520-4a01-8cff-a116b2b0bc36",
   "metadata": {},
   "source": [
    "Leia 3 valores inteiros e ordene-os em ordem crescente. No final, mostre os valores em ordem crescente, uma linha em branco e em seguida, os valores na sequência como foram lidos."
   ]
  },
  {
   "cell_type": "code",
   "execution_count": 3,
   "id": "cc1a9cdd-096a-40c8-aee8-e2255f33178a",
   "metadata": {},
   "outputs": [
    {
     "name": "stdin",
     "output_type": "stream",
     "text": [
      " 7 21 -14\n"
     ]
    }
   ],
   "source": [
    "valores = list(map(int, input().split()))"
   ]
  },
  {
   "cell_type": "code",
   "execution_count": 15,
   "id": "aab415d5-63e4-4c10-a985-46c5b16f43bf",
   "metadata": {},
   "outputs": [
    {
     "name": "stdout",
     "output_type": "stream",
     "text": [
      "-14\n",
      "7\n",
      "21\n",
      "\n",
      "-14\n",
      "7\n",
      "21\n"
     ]
    }
   ],
   "source": [
    "for i in sorted(valores):\n",
    "    print(i)\n",
    "\n",
    "print()\n",
    "\n",
    "for i in valores:\n",
    "    print(i)"
   ]
  },
  {
   "cell_type": "markdown",
   "id": "4bcf0ef4-0386-4819-878b-0da223548e59",
   "metadata": {},
   "source": [
    "--------"
   ]
  },
  {
   "cell_type": "markdown",
   "id": "67efd07d-e703-40ff-ad8c-409b3df71f25",
   "metadata": {},
   "source": [
    "**1043\n",
    "Triângulo**"
   ]
  },
  {
   "cell_type": "markdown",
   "id": "50fabc5f-9a9f-42ca-82ca-d2cc35ca4881",
   "metadata": {},
   "source": [
    "Leia 3 valores reais (A, B e C) e verifique se eles formam ou não um triângulo. Em caso positivo, calcule o perímetro do triângulo e apresente a mensagem: <br>\n",
    "*Perimetro = XX.X* <br>\n",
    "Em caso negativo, calcule a área do trapézio que tem A e B como base e C como altura, mostrando a mensagem <br>\n",
    "*Area = XX.X*"
   ]
  },
  {
   "cell_type": "code",
   "execution_count": 27,
   "id": "2959174f-e511-4bf0-b910-ec4efe2a2270",
   "metadata": {},
   "outputs": [
    {
     "name": "stdin",
     "output_type": "stream",
     "text": [
      " 6.0 4.0 2.1\n"
     ]
    }
   ],
   "source": [
    "a, b, c = map(float, input().split())"
   ]
  },
  {
   "cell_type": "code",
   "execution_count": 28,
   "id": "54d349b1-e800-4556-8559-866a7920e812",
   "metadata": {},
   "outputs": [
    {
     "name": "stdout",
     "output_type": "stream",
     "text": [
      "Perimetro = 12.1\n"
     ]
    }
   ],
   "source": [
    "if ((a + b) > c) & ((a + c) > b) & ((b + c) > a):\n",
    "    print(f'Perimetro = {a+b+c}')\n",
    "else:\n",
    "    print(f'Area = {((a+b)/2) * c}')"
   ]
  },
  {
   "cell_type": "markdown",
   "id": "36ec1a9f-c722-4e1d-9f64-6ef440fb9a0a",
   "metadata": {},
   "source": [
    "----------"
   ]
  },
  {
   "cell_type": "markdown",
   "id": "ce48c6fb-bfc1-4033-846e-98969a141fe7",
   "metadata": {},
   "source": [
    "**1044\n",
    "Múltiplos**"
   ]
  },
  {
   "cell_type": "markdown",
   "id": "3455e62e-e7a6-42ee-8b1e-88297de760eb",
   "metadata": {},
   "source": [
    "Leia 2 valores inteiros (A e B). Após, o programa deve mostrar uma mensagem \"Sao Multiplos\" ou \"Nao sao Multiplos\", indicando se os valores lidos são múltiplos entre si."
   ]
  },
  {
   "cell_type": "code",
   "execution_count": 5,
   "id": "88f434ec-1e39-490e-b6f9-5b62f4fb31bb",
   "metadata": {},
   "outputs": [
    {
     "name": "stdin",
     "output_type": "stream",
     "text": [
      " 6 24\n"
     ]
    }
   ],
   "source": [
    "a, b = map(int, input().split())"
   ]
  },
  {
   "cell_type": "code",
   "execution_count": 6,
   "id": "bf768fbb-ee84-430a-8188-8f9fa649de5d",
   "metadata": {},
   "outputs": [
    {
     "name": "stdout",
     "output_type": "stream",
     "text": [
      "Sao Multiplos\n"
     ]
    }
   ],
   "source": [
    "if (a % b) == 0 or (b % a) == 0:\n",
    "    print('Sao Multiplos')\n",
    "else:\n",
    "    print('Nao sao Multiplos')"
   ]
  },
  {
   "cell_type": "markdown",
   "id": "93fbaea0-193c-44c5-a91e-0fd61f3a32bb",
   "metadata": {},
   "source": [
    "----------"
   ]
  },
  {
   "cell_type": "markdown",
   "id": "ec22c353-5a2d-44e4-be29-59a89cb1cc86",
   "metadata": {},
   "source": [
    "**1046\n",
    "Tempo de Jogo**"
   ]
  },
  {
   "cell_type": "markdown",
   "id": "172cb0e5-164c-4fe0-9067-fe8fc711c764",
   "metadata": {},
   "source": [
    "Leia a hora inicial e a hora final de um jogo. A seguir calcule a duração do jogo, sabendo que o mesmo pode começar em um dia e terminar em outro, tendo uma duração mínima de 1 hora e máxima de 24 horas."
   ]
  },
  {
   "cell_type": "code",
   "execution_count": 15,
   "id": "1802d562-6c26-43df-bcc2-7c626ef5b84c",
   "metadata": {},
   "outputs": [
    {
     "name": "stdin",
     "output_type": "stream",
     "text": [
      " 2 16\n"
     ]
    }
   ],
   "source": [
    "hora_inicial, hora_final = map(int, input().split())"
   ]
  },
  {
   "cell_type": "code",
   "execution_count": 24,
   "id": "3ab53bd5-4904-458c-a282-9b3d57847512",
   "metadata": {},
   "outputs": [],
   "source": [
    "if (hora_inicial - hora_final) == 0:\n",
    "    total = 24\n",
    "elif (hora_inicial - hora_final) < 0:\n",
    "    total = abs(hora_inicial - hora_final)\n",
    "else:\n",
    "    total = abs(hora_inicial - 24) + hora_final"
   ]
  },
  {
   "cell_type": "code",
   "execution_count": 25,
   "id": "b59e15fb-21dd-4a7c-8ecf-b7437b877c0b",
   "metadata": {},
   "outputs": [
    {
     "name": "stdout",
     "output_type": "stream",
     "text": [
      "O JOGO DUROU 14 HORA(S)\n"
     ]
    }
   ],
   "source": [
    "print(f'O JOGO DUROU {total} HORA(S)')"
   ]
  },
  {
   "cell_type": "markdown",
   "id": "94d4ae25-48b9-43e0-8ad1-2f815e2d27a7",
   "metadata": {},
   "source": [
    "-----------"
   ]
  },
  {
   "cell_type": "markdown",
   "id": "387cf133-f125-454f-939c-7450a41909ca",
   "metadata": {},
   "source": [
    "**1048\n",
    "Aumento de Salário**"
   ]
  },
  {
   "cell_type": "markdown",
   "id": "d778a76f-061c-4f86-a091-11d240cb4997",
   "metadata": {},
   "source": [
    "A empresa ABC resolveu conceder um aumento de salários a seus funcionários de acordo com a tabela abaixo:\n",
    "\n",
    "| Salario       | Percentual de reajuste | \n",
    "|:-------------:|:----------------------:|\n",
    "| 0 - 400       | 15\\%                   | \n",
    "| 400.01 - 800  | 12\\%                   | \n",
    "| 800.01 - 1200 | 10\\%                   | \n",
    "|1200.01 - 2000 | 7\\%                    | \n",
    "| Acima de 2000 | 4\\%                    | \n",
    "\n",
    "Leia o salário do funcionário e calcule e mostre o novo salário, bem como o valor de reajuste ganho e o índice reajustado, em percentual.\n"
   ]
  },
  {
   "cell_type": "code",
   "execution_count": 27,
   "id": "d26e2942-d499-4d4c-b051-dd49464cb8e5",
   "metadata": {},
   "outputs": [
    {
     "name": "stdin",
     "output_type": "stream",
     "text": [
      " 400\n"
     ]
    }
   ],
   "source": [
    "salario = float(input())"
   ]
  },
  {
   "cell_type": "code",
   "execution_count": 28,
   "id": "e3a230fd-2c37-40cc-8ebc-603b1d1b63a8",
   "metadata": {},
   "outputs": [],
   "source": [
    "if salario <= 400:\n",
    "    reajuste = 15/100\n",
    "elif 400 < salario <= 800:\n",
    "    reajuste = 12/100\n",
    "elif 800 < salario <= 1200:\n",
    "    reajuste = 10/100\n",
    "elif 1200 < salario <= 2000:\n",
    "    reajuste = 7/100\n",
    "else:\n",
    "    reajuste = 4/100"
   ]
  },
  {
   "cell_type": "code",
   "execution_count": 30,
   "id": "ca3af14f-6a84-4a85-939f-5819f511040c",
   "metadata": {},
   "outputs": [],
   "source": [
    "novo_salario = salario + (salario * reajuste)\n",
    "reajuste_ganho = salario * reajuste\n",
    "percentual = reajuste * 100"
   ]
  },
  {
   "cell_type": "code",
   "execution_count": 33,
   "id": "4b0d470d-1186-4154-b233-f051b6a6741c",
   "metadata": {},
   "outputs": [
    {
     "name": "stdout",
     "output_type": "stream",
     "text": [
      "Novo salario: 460.00\n",
      "Reajuste ganho: 60.00\n",
      "Em percentual: 15%\n"
     ]
    }
   ],
   "source": [
    "print(f'Novo salario: {novo_salario:.2f}\\nReajuste ganho: {reajuste_ganho:.2f}\\nEm percentual: {percentual:.0f}%')"
   ]
  },
  {
   "cell_type": "markdown",
   "id": "7e0da60d-52f6-4557-a6a3-681abfc194d6",
   "metadata": {},
   "source": [
    "----------"
   ]
  },
  {
   "cell_type": "markdown",
   "id": "ee5a638d-942e-4851-9f99-a4e66f9c5309",
   "metadata": {},
   "source": [
    "**1050\n",
    "DDD**"
   ]
  },
  {
   "cell_type": "markdown",
   "id": "cbd51e34-8385-4d1a-ada6-504e8ed414f3",
   "metadata": {},
   "source": [
    "Leia um número inteiro que representa um código de DDD para discagem interurbana. Em seguida, informe à qual cidade o DDD pertence, considerando a tabela abaixo: <br>\n",
    "| DDD       | Destination    | \n",
    "|:---------:|:--------------:|\n",
    "| 61        | Brasilia       | \n",
    "| 71        | Salvador       | \n",
    "| 11        | Sao Paulo      | \n",
    "| 21        | Rio de Janeiro | \n",
    "| 32        | Juiz de Fora   | \n",
    "| 19        | Campinas       | \n",
    "| 27        | Vitoria        | \n",
    "| 31        | Belo Horizonte | "
   ]
  },
  {
   "cell_type": "markdown",
   "id": "568fac4e-33a1-4479-91c5-aa0e4c80abd1",
   "metadata": {},
   "source": [
    "Se a entrada for qualquer outro DDD que não esteja presente na tabela acima, o programa deverá informar:\n",
    "DDD nao cadastrado"
   ]
  },
  {
   "cell_type": "code",
   "execution_count": 1,
   "id": "6a1ace66-5c79-415e-a78c-fb54d737f2c3",
   "metadata": {},
   "outputs": [
    {
     "name": "stdin",
     "output_type": "stream",
     "text": [
      " 11\n"
     ]
    }
   ],
   "source": [
    "codigo = int(input())"
   ]
  },
  {
   "cell_type": "code",
   "execution_count": 3,
   "id": "d355621c-0eee-4d51-bf3f-ab1020c7b753",
   "metadata": {},
   "outputs": [],
   "source": [
    "tabela = {61: 'Brasilia',\n",
    "            71: 'Salvador',\n",
    "            11: 'Sao Paulo',\n",
    "            21: 'Rio de Janeiro',\n",
    "            32: 'Juiz de Fora',\n",
    "            19: 'Campinas',\n",
    "            27: 'Vitoria',\n",
    "            31: 'Belo Horizonte'}"
   ]
  },
  {
   "cell_type": "code",
   "execution_count": 4,
   "id": "17c3d62a-3dfb-4525-88f2-33a82c8a09eb",
   "metadata": {},
   "outputs": [
    {
     "name": "stdout",
     "output_type": "stream",
     "text": [
      "Sao Paulo\n"
     ]
    }
   ],
   "source": [
    "if codigo in tabela:\n",
    "    print(tabela[codigo])\n",
    "else:\n",
    "    print('DDD nao cadastrado')"
   ]
  },
  {
   "cell_type": "markdown",
   "id": "99019403-5960-4ec7-95a1-54efddb18808",
   "metadata": {},
   "source": [
    "---------------"
   ]
  },
  {
   "cell_type": "markdown",
   "id": "1a2615e2-9529-48aa-8522-6974c9697d4b",
   "metadata": {},
   "source": [
    "**1051\n",
    "Imposto de Renda**"
   ]
  },
  {
   "cell_type": "markdown",
   "id": "be16ecba-104e-4216-b2dd-2f7656e9b6ce",
   "metadata": {},
   "source": [
    "Em um país imaginário denominado Lisarb, todos os habitantes ficam felizes em pagar seus impostos, pois sabem que nele não existem políticos corruptos e os recursos arrecadados são utilizados em benefício da população, sem qualquer desvio. A moeda deste país é o Rombus, cujo símbolo é o R\\$.\n",
    "<br>\n",
    "Leia um valor com duas casas decimais, equivalente ao salário de uma pessoa de Lisarb. Em seguida, calcule e mostre o valor que esta pessoa deve pagar de Imposto de Renda, segundo a tabela abaixo. <br>\n",
    "| Renda                          | Imposto de Renda    | \n",
    "|:------------------------------:|:-------------------:|\n",
    "| de 0.00 a 2000.00              | Isento              | \n",
    "| de 2000.01 até 3000.00         | 8%                  | \n",
    "| de 3000.01 até 4500.00         | 18%                 | \n",
    "| acima de 4500.00               | 28%                 | "
   ]
  },
  {
   "cell_type": "markdown",
   "id": "e27eca45-7f3b-4618-b811-950306b63e5e",
   "metadata": {},
   "source": [
    "Lembre que, se o salário for 3002.00, a taxa que incide é de 8% apenas sobre 1000.00, pois a faixa de salário que fica de 0.00 até R$ 2000.00 é isenta de Imposto de Renda. No exemplo fornecido (abaixo), a taxa é de 8% sobre 1000.00 + 18% sobre 2.00, o que resulta em 80.36 no total. O valor deve ser impresso com duas casas decimais."
   ]
  },
  {
   "cell_type": "code",
   "execution_count": 14,
   "id": "e092d58b-fc47-4fb5-985c-26dd20be4194",
   "metadata": {},
   "outputs": [
    {
     "name": "stdin",
     "output_type": "stream",
     "text": [
      " 3002.00\n"
     ]
    }
   ],
   "source": [
    "salario = float(input())"
   ]
  },
  {
   "cell_type": "code",
   "execution_count": 15,
   "id": "1a64b3e7-05e1-4203-a389-8e0663fed3d2",
   "metadata": {},
   "outputs": [],
   "source": [
    "imposto = 0\n",
    "if salario <= 2000.00:\n",
    "    imposto = 0.00\n",
    "elif salario <= 3000.00: \n",
    "    imposto = (salario - 2000.00) * 0.08\n",
    "elif salario <= 4500.00:\n",
    "    imposto = 1000.00 * 0.08 + (salario - 3000.00) * 0.18\n",
    "else:\n",
    "    imposto = 1000.00 * 0.08 + 1500.00 * 0.18 + (salario - 4500.00) * 0.28"
   ]
  },
  {
   "cell_type": "code",
   "execution_count": 16,
   "id": "59def31f-b2eb-42d8-883d-f517f5cf7529",
   "metadata": {},
   "outputs": [
    {
     "name": "stdout",
     "output_type": "stream",
     "text": [
      "R$ 80.36\n"
     ]
    }
   ],
   "source": [
    "if imposto != 0:\n",
    "    print(f'R$ {imposto:.2f}')\n",
    "else:\n",
    "    print('Isento')"
   ]
  },
  {
   "cell_type": "markdown",
   "id": "2feb39eb-ac34-47c0-9f44-c370dd9b7d3a",
   "metadata": {},
   "source": [
    "-----------"
   ]
  },
  {
   "cell_type": "code",
   "execution_count": null,
   "id": "b6627ccd-71ab-4e94-b06a-813fad926a63",
   "metadata": {},
   "outputs": [],
   "source": []
  }
 ],
 "metadata": {
  "kernelspec": {
   "display_name": "Python 3 (ipykernel)",
   "language": "python",
   "name": "python3"
  },
  "language_info": {
   "codemirror_mode": {
    "name": "ipython",
    "version": 3
   },
   "file_extension": ".py",
   "mimetype": "text/x-python",
   "name": "python",
   "nbconvert_exporter": "python",
   "pygments_lexer": "ipython3",
   "version": "3.11.4"
  }
 },
 "nbformat": 4,
 "nbformat_minor": 5
}
