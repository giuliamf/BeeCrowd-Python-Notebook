{
 "cells": [
  {
   "cell_type": "markdown",
   "id": "87e197ea-db53-4f1c-b640-488f1f94416d",
   "metadata": {},
   "source": [
    "**1000 Hello World**\n"
   ]
  },
  {
   "cell_type": "markdown",
   "id": "3599489d-0cf4-43c9-8d6c-f2de72536e18",
   "metadata": {},
   "source": [
    "O seu primeiro programa em qualquer linguagem de programação normalmente é o \"Hello World!\". Neste primeiro problema tudo o que você precisa fazer é imprimir esta mensagem na tela."
   ]
  },
  {
   "cell_type": "code",
   "execution_count": 1,
   "id": "cf55039f-6b73-4853-94bf-923596f87780",
   "metadata": {},
   "outputs": [
    {
     "name": "stdout",
     "output_type": "stream",
     "text": [
      "Hello World\n"
     ]
    }
   ],
   "source": [
    "print('Hello World')"
   ]
  }
 ],
 "metadata": {
  "kernelspec": {
   "display_name": "Python 3 (ipykernel)",
   "language": "python",
   "name": "python3"
  },
  "language_info": {
   "codemirror_mode": {
    "name": "ipython",
    "version": 3
   },
   "file_extension": ".py",
   "mimetype": "text/x-python",
   "name": "python",
   "nbconvert_exporter": "python",
   "pygments_lexer": "ipython3",
   "version": "3.12.5"
  }
 },
 "nbformat": 4,
 "nbformat_minor": 5
}
