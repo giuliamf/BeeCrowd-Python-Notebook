{
 "cells": [
  {
   "cell_type": "markdown",
   "id": "3d2b1422-46ce-4e30-b737-b47c33f3f079",
   "metadata": {},
   "source": [
    "**1021\n",
    "Notas e Moedas**"
   ]
  },
  {
   "cell_type": "markdown",
   "id": "037e95f3-df5e-4182-8fe3-bd59cdce32f9",
   "metadata": {},
   "source": [
    "Leia um valor de ponto flutuante com duas casas decimais. Este valor representa um valor monetário. A seguir, calcule o menor número de notas e moedas possíveis no qual o valor pode ser decomposto. <br> As notas consideradas são de 100, 50, 20, 10, 5, 2. As moedas possíveis são de 1, 0.50, 0.25, 0.10, 0.05 e 0.01. A seguir mostre a relação de notas necessárias."
   ]
  },
  {
   "cell_type": "code",
   "execution_count": 27,
   "id": "ef04ba55-7f9e-4d09-a5e7-01feb5d43bbd",
   "metadata": {},
   "outputs": [
    {
     "name": "stdin",
     "output_type": "stream",
     "text": [
      " 576.73\n"
     ]
    }
   ],
   "source": [
    "valor = float(input())"
   ]
  },
  {
   "cell_type": "code",
   "execution_count": 28,
   "id": "84514d1f-8b1e-468f-9025-846936bf60f9",
   "metadata": {},
   "outputs": [
    {
     "name": "stdout",
     "output_type": "stream",
     "text": [
      "NOTAS:\n",
      "5 nota(s) de R$ 100.00\n",
      "1 nota(s) de R$ 50.00\n",
      "1 nota(s) de R$ 20.00\n",
      "0 nota(s) de R$ 10.00\n",
      "1 nota(s) de R$ 5.00\n",
      "0 nota(s) de R$ 2.00\n",
      "MOEDAS:\n",
      "1 moeda(s) de R$ 1.00\n",
      "1 moeda(s) de R$ 0.50\n",
      "0 moeda(s) de R$ 0.25\n",
      "2 moeda(s) de R$ 0.10\n",
      "0 moeda(s) de R$ 0.05\n",
      "3 moeda(s) de R$ 0.01\n"
     ]
    }
   ],
   "source": [
    "dinheiro = {'nota': [100, 50, 20, 10, 5, 2], 'moeda': [1, 0.5, 0.25, 0.1, 0.05, 0.01]}\n",
    "\n",
    "for tipo in dinheiro:\n",
    "    print(f'{tipo.upper()}S:')\n",
    "    for valor_unitario in dinheiro[tipo]:\n",
    "        qtd = valor // valor_unitario\n",
    "        print(f'{int(qtd)} {tipo}(s) de R$ {valor_unitario:.2f}')\n",
    "        valor = valor - (valor_unitario * qtd)"
   ]
  },
  {
   "cell_type": "markdown",
   "id": "b625e520-7724-4bd4-a050-bcccedea99c5",
   "metadata": {},
   "source": [
    "*obs: está dando erro em algum dos testes escondidos porém não sei o porquê* "
   ]
  },
  {
   "cell_type": "markdown",
   "id": "077cdc9f-9bb2-4028-875e-2e94d62a2676",
   "metadata": {},
   "source": [
    "--------------"
   ]
  },
  {
   "cell_type": "code",
   "execution_count": null,
   "id": "dbb23e82-7fed-4d2f-972f-e9b681d37ce8",
   "metadata": {},
   "outputs": [],
   "source": []
  }
 ],
 "metadata": {
  "kernelspec": {
   "display_name": "Python 3 (ipykernel)",
   "language": "python",
   "name": "python3"
  },
  "language_info": {
   "codemirror_mode": {
    "name": "ipython",
    "version": 3
   },
   "file_extension": ".py",
   "mimetype": "text/x-python",
   "name": "python",
   "nbconvert_exporter": "python",
   "pygments_lexer": "ipython3",
   "version": "3.11.4"
  }
 },
 "nbformat": 4,
 "nbformat_minor": 5
}
