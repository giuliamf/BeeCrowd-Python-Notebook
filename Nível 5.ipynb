{
 "cells": [
  {
   "cell_type": "markdown",
   "id": "64447690-2617-471a-ac3f-495718f573ea",
   "metadata": {},
   "source": [
    "**1040\n",
    "Média 3**"
   ]
  },
  {
   "cell_type": "markdown",
   "id": "680c3c12-cb3a-44c2-8443-6ed52e5eb1e4",
   "metadata": {},
   "source": [
    "Leia quatro números (N1, N2, N3, N4), cada um deles com uma casa decimal, correspondente às quatro notas de um aluno. Calcule a média com pesos 2, 3, 4 e 1, respectivamente, para cada uma destas notas e mostre esta média acompanhada pela mensagem \"Media: \". Se esta média for maior ou igual a 7.0, imprima a mensagem \"Aluno aprovado.\". Se a média calculada for inferior a 5.0, imprima a mensagem \"Aluno reprovado.\". Se a média calculada for um valor entre 5.0 e 6.9, inclusive estas, o programa deve imprimir a mensagem \"Aluno em exame.\". <br>\n",
    "\n",
    "No caso do aluno estar em exame, leia um valor correspondente à nota do exame obtida pelo aluno. Imprima então a mensagem \"Nota do exame: \" acompanhada pela nota digitada. Recalcule a média (some a pontuação do exame com a média anteriormente calculada e divida por 2). e imprima a mensagem \"Aluno aprovado.\" (caso a média final seja 5.0 ou mais ) ou \"Aluno reprovado.\", (caso a média tenha ficado 4.9 ou menos). Para estes dois casos (aprovado ou reprovado após ter pego exame) apresente na última linha uma mensagem \"Media final: \" seguido da média final para esse aluno.\n"
   ]
  },
  {
   "cell_type": "code",
   "execution_count": 29,
   "id": "9e864fd8-5a7e-48dc-ab33-36c916caaec8",
   "metadata": {},
   "outputs": [],
   "source": [
    "def status_aluno(media):\n",
    "    if media > 7:\n",
    "        return 'Aluno aprovado.'\n",
    "    elif media < 5:\n",
    "        return 'Aluno reprovado.'\n",
    "    else:\n",
    "        return 'Aluno em exame.'"
   ]
  },
  {
   "cell_type": "code",
   "execution_count": 30,
   "id": "c86901d9-ca71-40a9-8aaa-85a7d51a2693",
   "metadata": {},
   "outputs": [
    {
     "name": "stdin",
     "output_type": "stream",
     "text": [
      " 2 4 7.5 8\n"
     ]
    }
   ],
   "source": [
    "nota1, nota2, nota3, nota4 = map(float, input().split())"
   ]
  },
  {
   "cell_type": "code",
   "execution_count": 31,
   "id": "3a5432dd-c345-4126-947c-540604da1ca1",
   "metadata": {},
   "outputs": [
    {
     "name": "stdout",
     "output_type": "stream",
     "text": [
      "Media: 5.4\n"
     ]
    }
   ],
   "source": [
    "media = ((nota1 * 2) + (nota2 * 3) + (nota3 * 4) + (nota4)) / 10\n",
    "print(f'Media: {media}')"
   ]
  },
  {
   "cell_type": "code",
   "execution_count": 32,
   "id": "b1d64933-3c66-4ef6-940f-db0f651d1f4e",
   "metadata": {},
   "outputs": [
    {
     "name": "stdout",
     "output_type": "stream",
     "text": [
      "Aluno em exame.\n"
     ]
    }
   ],
   "source": [
    "status = status_aluno(media)\n",
    "print(status)"
   ]
  },
  {
   "cell_type": "code",
   "execution_count": 33,
   "id": "79781825-50d1-45f9-abae-156c59dc971c",
   "metadata": {},
   "outputs": [
    {
     "name": "stdin",
     "output_type": "stream",
     "text": [
      " 6.4\n"
     ]
    },
    {
     "name": "stdout",
     "output_type": "stream",
     "text": [
      "Nota do exame: 6.4\n",
      "Aluno aprovado.\n",
      "Media final: 5.9\n"
     ]
    }
   ],
   "source": [
    "if 'em exame' in status.lower():\n",
    "    nota_exame = float(input())\n",
    "    nova_media = (nota_exame + media) / 2\n",
    "\n",
    "    print(f'Nota do exame: {nota_exame}')\n",
    "    if nova_media >= 5:\n",
    "        print('Aluno aprovado.')\n",
    "    else:\n",
    "        print('Aluno reprovado.')\n",
    "\n",
    "    print(f'Media final: {nova_media}')"
   ]
  },
  {
   "cell_type": "code",
   "execution_count": null,
   "id": "cccb6de7-209f-4ae1-9a86-b52ec5a19a81",
   "metadata": {},
   "outputs": [],
   "source": []
  }
 ],
 "metadata": {
  "kernelspec": {
   "display_name": "Python 3 (ipykernel)",
   "language": "python",
   "name": "python3"
  },
  "language_info": {
   "codemirror_mode": {
    "name": "ipython",
    "version": 3
   },
   "file_extension": ".py",
   "mimetype": "text/x-python",
   "name": "python",
   "nbconvert_exporter": "python",
   "pygments_lexer": "ipython3",
   "version": "3.11.4"
  }
 },
 "nbformat": 4,
 "nbformat_minor": 5
}
