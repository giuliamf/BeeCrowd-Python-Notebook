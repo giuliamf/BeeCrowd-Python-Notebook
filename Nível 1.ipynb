{
 "cells": [
  {
   "cell_type": "markdown",
   "id": "bfcbb11f-3dad-404b-9479-f4d9bb7a893e",
   "metadata": {},
   "source": [
    "**1003 Soma Simples**"
   ]
  },
  {
   "cell_type": "markdown",
   "id": "05f1a92d-4f34-4b8b-bdee-e972b6289adc",
   "metadata": {},
   "source": [
    "Leia dois valores inteiros, no caso para variáveis A e B. A seguir, calcule a soma entre elas e atribua à variável SOMA. A seguir escrever o valor desta variável"
   ]
  },
  {
   "cell_type": "code",
   "execution_count": 2,
   "id": "168e1f9a-ba5d-42d1-8ef6-6e76d66af1ba",
   "metadata": {},
   "outputs": [
    {
     "name": "stdin",
     "output_type": "stream",
     "text": [
      " 30\n",
      " 10\n"
     ]
    }
   ],
   "source": [
    "A = int(input())\n",
    "B = int(input())"
   ]
  },
  {
   "cell_type": "code",
   "execution_count": 3,
   "id": "015884f3-3601-480a-a6ac-d4440c5a6fda",
   "metadata": {},
   "outputs": [
    {
     "name": "stdout",
     "output_type": "stream",
     "text": [
      "SOMA = 40\n"
     ]
    }
   ],
   "source": [
    "soma = A + B\n",
    "print(f'SOMA = {soma}')"
   ]
  },
  {
   "cell_type": "markdown",
   "id": "02096381-db0a-4b79-88da-906f39dd31b1",
   "metadata": {},
   "source": [
    "----------------------------------------------"
   ]
  },
  {
   "cell_type": "markdown",
   "id": "fd5ff373-c904-472d-8c13-b2596f246b5a",
   "metadata": {},
   "source": [
    "**1004 Produto Simples**"
   ]
  },
  {
   "cell_type": "markdown",
   "id": "c6c39e14-c972-4010-b304-b47338b96040",
   "metadata": {},
   "source": [
    "Leia dois valores inteiros. A seguir, calcule o produto entre estes dois valores e atribua esta operação à variável PROD. A seguir mostre a variável PROD com mensagem correspondente.    "
   ]
  },
  {
   "cell_type": "code",
   "execution_count": 5,
   "id": "00ed66ae-bc17-4a1d-a1d1-a96a56007ce8",
   "metadata": {},
   "outputs": [
    {
     "name": "stdin",
     "output_type": "stream",
     "text": [
      " 3\n",
      " 9\n"
     ]
    }
   ],
   "source": [
    "A = int(input())\n",
    "B = int(input())"
   ]
  },
  {
   "cell_type": "code",
   "execution_count": 6,
   "id": "ba18dddd-fa36-4296-a3df-49f7f6e022cb",
   "metadata": {},
   "outputs": [
    {
     "name": "stdout",
     "output_type": "stream",
     "text": [
      "PROD = 27\n"
     ]
    }
   ],
   "source": [
    "prod = A * B\n",
    "print(f'PROD = {prod}')"
   ]
  },
  {
   "cell_type": "markdown",
   "id": "070d5732-32ff-433a-af77-82796d49e577",
   "metadata": {},
   "source": [
    "----------------------------------------------------"
   ]
  },
  {
   "cell_type": "markdown",
   "id": "b8dd909f-51b7-429f-ad61-c35eb6a3d7b7",
   "metadata": {},
   "source": [
    "**1006\n",
    "Média 2**"
   ]
  },
  {
   "cell_type": "markdown",
   "id": "2a269aa9-5f58-40f8-b70d-1dda37bc32e5",
   "metadata": {},
   "source": [
    "Leia 3 valores, no caso, variáveis A, B e C, que são as três notas de um aluno. A seguir, calcule a média do aluno, sabendo que a nota A tem peso 2, a nota B tem peso 3 e a nota C tem peso 5. Considere que cada nota pode ir de 0 até 10.0, sempre com uma casa decimal. Imprima a mensagem \"MEDIA\" e a média do aluno, com 1 dígito após o ponto decimal"
   ]
  },
  {
   "cell_type": "code",
   "execution_count": 8,
   "id": "274619db-06ea-475c-a232-89c35dbc1352",
   "metadata": {},
   "outputs": [
    {
     "name": "stdin",
     "output_type": "stream",
     "text": [
      " 5\n",
      " 6\n",
      " 7\n"
     ]
    }
   ],
   "source": [
    "A = float(input())\n",
    "B = float(input())\n",
    "C = float(input())"
   ]
  },
  {
   "cell_type": "code",
   "execution_count": 9,
   "id": "991e8caf-fa2f-411d-9035-342bb304914f",
   "metadata": {},
   "outputs": [
    {
     "name": "stdout",
     "output_type": "stream",
     "text": [
      "MEDIA = 6.3\n"
     ]
    }
   ],
   "source": [
    "media = ((A * 2) + (B * 3) + (C * 5)) / 10\n",
    "print(f'MEDIA = {media:.1f}')"
   ]
  },
  {
   "cell_type": "markdown",
   "id": "0b8955f8-686f-433b-935f-989c6d3abfdd",
   "metadata": {},
   "source": [
    "-----------------------------"
   ]
  },
  {
   "cell_type": "markdown",
   "id": "f393e336-4b8b-409e-86b2-ce4f22658f03",
   "metadata": {},
   "source": [
    "**1007\n",
    "Diferença**"
   ]
  },
  {
   "cell_type": "markdown",
   "id": "90333fed-1321-4742-b61d-056116e45466",
   "metadata": {},
   "source": [
    "Leia quatro valores inteiros A, B, C e D. A seguir, calcule e mostre a diferença do produto de A e B pelo produto de C e D segundo a fórmula: DIFERENCA = (A * B - C * D)."
   ]
  },
  {
   "cell_type": "code",
   "execution_count": 13,
   "id": "cd0fc8a5-a724-4b2f-a355-bad454cff9d1",
   "metadata": {},
   "outputs": [
    {
     "name": "stdin",
     "output_type": "stream",
     "text": [
      " 5\n",
      " 6\n",
      " 7\n",
      " 8\n"
     ]
    }
   ],
   "source": [
    "A = int(input())\n",
    "B = int(input())\n",
    "C = int(input())\n",
    "D = int(input())"
   ]
  },
  {
   "cell_type": "code",
   "execution_count": 14,
   "id": "05e6662c-7531-4ed6-a12f-6aab8b14058c",
   "metadata": {},
   "outputs": [
    {
     "name": "stdout",
     "output_type": "stream",
     "text": [
      "DIFERENCA = -26\n"
     ]
    }
   ],
   "source": [
    "diferenca = (A * B) - (C * D)\n",
    "print(f'DIFERENCA = {diferenca}')"
   ]
  },
  {
   "cell_type": "markdown",
   "id": "9e235c97-4666-4990-a810-1e7c8b069c8a",
   "metadata": {},
   "source": [
    "----------"
   ]
  },
  {
   "cell_type": "markdown",
   "id": "909e4247-6809-4f22-bc99-ae2c64aa69dc",
   "metadata": {},
   "source": [
    "**1014\n",
    "Consumo**"
   ]
  },
  {
   "cell_type": "markdown",
   "id": "6fc5910d-5e00-4fde-aa93-0e7b140bbfc9",
   "metadata": {},
   "source": [
    "Calcule o consumo médio de um automóvel sendo fornecidos a distância total percorrida (em Km) e o total de combustível gasto (em litros). A entrada contém dois valores: um valor inteiro representando a distância total percorrida (em Km), e um valor representando o total de combustível gasto. Apresente o valor que representa o consumo médio do automóvel com 3 casas após a vírgula."
   ]
  },
  {
   "cell_type": "code",
   "execution_count": 1,
   "id": "dbab7acd-e583-4f05-a73f-75fc576124c2",
   "metadata": {},
   "outputs": [
    {
     "name": "stdin",
     "output_type": "stream",
     "text": [
      " 500\n",
      " 35.0\n"
     ]
    }
   ],
   "source": [
    "distancia = int(input())\n",
    "combustivel = float(input())"
   ]
  },
  {
   "cell_type": "code",
   "execution_count": 3,
   "id": "b5d9a4c0-9461-439f-b4e8-c6ae50da7a18",
   "metadata": {},
   "outputs": [
    {
     "name": "stdout",
     "output_type": "stream",
     "text": [
      "14.286 km/l\n"
     ]
    }
   ],
   "source": [
    "consumo = distancia / combustivel\n",
    "print(f'{consumo:.3f} km/l')"
   ]
  },
  {
   "cell_type": "markdown",
   "id": "b7a86ece-4194-4551-b5d8-fdacaaed71de",
   "metadata": {},
   "source": [
    "-------------"
   ]
  },
  {
   "cell_type": "markdown",
   "id": "161f24c0-d132-4a08-adc8-2d133a315e96",
   "metadata": {},
   "source": [
    "**1015\n",
    "Distância Entre Dois Pontos**"
   ]
  },
  {
   "cell_type": "markdown",
   "id": "482c2dba-6e1c-490b-9249-8cca0b52144e",
   "metadata": {},
   "source": [
    "Leia os quatro valores correspondentes aos eixos x e y de dois pontos quaisquer no plano, p1(x1,y1) e p2(x2,y2) e calcule a distância entre eles, mostrando 4 casas decimais após a vírgula, segundo a fórmula: $$ Distancia = \\sqrt{(x2 - x1)^2 + (y2 - y1)^2} $$"
   ]
  },
  {
   "cell_type": "code",
   "execution_count": 4,
   "id": "3a62eb83-2539-4d01-ab8a-a9594502963f",
   "metadata": {},
   "outputs": [
    {
     "name": "stdin",
     "output_type": "stream",
     "text": [
      " 1.0 7.0\n",
      " 5.0 9.0\n"
     ]
    }
   ],
   "source": [
    "x1, y1 = map(float, input().split())\n",
    "x2, y2 = map(float, input().split())"
   ]
  },
  {
   "cell_type": "code",
   "execution_count": 7,
   "id": "a8eed66a-73fc-496f-9e88-457bfa7bcf87",
   "metadata": {},
   "outputs": [],
   "source": [
    "from math import sqrt"
   ]
  },
  {
   "cell_type": "code",
   "execution_count": 9,
   "id": "0f5a69dc-0e8c-415f-9d29-50636b2bf39a",
   "metadata": {},
   "outputs": [
    {
     "name": "stdout",
     "output_type": "stream",
     "text": [
      "4.4721\n"
     ]
    }
   ],
   "source": [
    "distancia = sqrt(pow(x2 - x1, 2) + pow(y2 - y1, 2))\n",
    "print(f'{distancia:.4f}')"
   ]
  },
  {
   "cell_type": "markdown",
   "id": "adcc3bf5-b5bf-4565-ac9c-3a35f6c75e60",
   "metadata": {},
   "source": [
    "-----------"
   ]
  },
  {
   "cell_type": "markdown",
   "id": "d270a3f9-3dd9-4d21-a26b-562a520a2bb2",
   "metadata": {},
   "source": [
    "**1016\n",
    "Distância**"
   ]
  },
  {
   "cell_type": "markdown",
   "id": "27ca6f56-7864-40a7-b2ce-ac8aceb05506",
   "metadata": {},
   "source": [
    "Dois carros (X e Y) partem em uma mesma direção. O carro X sai com velocidade constante de 60 Km/h e o carro Y sai com velocidade constante de 90 Km/h. <br>\n",
    "Em uma hora o carro Y consegue se distanciar 30 quilômetros do carro X, ou seja, consegue se afastar um quilômetro a cada 2 minutos. <br>\n",
    "Leia a distância (em Km) e calcule quanto tempo leva (em minutos) para o carro Y tomar essa distância do outro carro."
   ]
  },
  {
   "cell_type": "code",
   "execution_count": 10,
   "id": "2be39672-d9d1-47f6-97f5-13070aa36880",
   "metadata": {},
   "outputs": [
    {
     "name": "stdin",
     "output_type": "stream",
     "text": [
      " 30\n"
     ]
    }
   ],
   "source": [
    "distancia = int(input())"
   ]
  },
  {
   "cell_type": "code",
   "execution_count": 11,
   "id": "f1658cc5-ca05-42ee-8d9b-8cdfd7479fb5",
   "metadata": {},
   "outputs": [
    {
     "name": "stdout",
     "output_type": "stream",
     "text": [
      "60 minutos\n"
     ]
    }
   ],
   "source": [
    "tempo = distancia * 2\n",
    "print(f'{tempo} minutos')"
   ]
  },
  {
   "cell_type": "markdown",
   "id": "2a1fd18a-e4e1-4b36-aa8e-87d3eeaeaa95",
   "metadata": {},
   "source": [
    "----------"
   ]
  },
  {
   "cell_type": "markdown",
   "id": "154bb747-ea7c-4304-adff-a429f828274e",
   "metadata": {},
   "source": [
    "**1019\n",
    "Conversão de Tempo**"
   ]
  },
  {
   "cell_type": "markdown",
   "id": "79ea4ec8-5fec-4171-bd47-3d89e1ef5e6c",
   "metadata": {},
   "source": [
    "Leia um valor inteiro, que é o tempo de duração em segundos de um determinado evento em uma fábrica, e informe-o expresso no formato horas:minutos:segundos."
   ]
  },
  {
   "cell_type": "code",
   "execution_count": 18,
   "id": "3ea1a40d-2bce-4a94-94d7-7bf10e263221",
   "metadata": {},
   "outputs": [
    {
     "name": "stdin",
     "output_type": "stream",
     "text": [
      " 140153\n"
     ]
    }
   ],
   "source": [
    "valor = int(input())"
   ]
  },
  {
   "cell_type": "code",
   "execution_count": 19,
   "id": "1f92bb08-cd56-4236-bd84-586d3e0cbb3c",
   "metadata": {},
   "outputs": [
    {
     "name": "stdout",
     "output_type": "stream",
     "text": [
      "38:55:53\n"
     ]
    }
   ],
   "source": [
    "horas = valor // 3600\n",
    "minutos = (valor % 3600) // 60\n",
    "segundos = valor % 60\n",
    "print(f'{horas}:{minutos}:{segundos}')"
   ]
  },
  {
   "cell_type": "markdown",
   "id": "d122fbc3-1098-47d1-8441-ccd8b2541de5",
   "metadata": {},
   "source": [
    "---------------"
   ]
  },
  {
   "cell_type": "markdown",
   "id": "2ecfc478-0ab9-4cf2-a823-8060b333383d",
   "metadata": {},
   "source": [
    "**1038\n",
    "Lanche**"
   ]
  },
  {
   "cell_type": "markdown",
   "id": "86a657ed-3a2d-4af0-8476-6cd09e7bd689",
   "metadata": {},
   "source": [
    "Com base na tabela abaixo, escreva um programa que leia o código de um item e a quantidade deste item. A seguir, calcule e mostre o valor da conta a pagar."
   ]
  },
  {
   "cell_type": "markdown",
   "id": "1a823f7b-2dbe-4004-a5f8-bd922c459e58",
   "metadata": {},
   "source": [
    "| Codigo | Especificação   | Preço   |\n",
    "|:------:|:---------------:|:-------:|\n",
    "|   1    |Cachorro quente  |R\\$ 4.00 |\n",
    "|   2    |X-Salada         |R\\$ 4.50 |\n",
    "|   3    |X-Bacon          |R\\$ 5.00 |\n",
    "|   4    |Torrada simples  |R\\$ 2.00 |\n",
    "|   5    |Refrigerante     |R\\$ 1.50 |"
   ]
  },
  {
   "cell_type": "code",
   "execution_count": 1,
   "id": "a1afc42e-418c-45b6-ac4f-ba1827991166",
   "metadata": {},
   "outputs": [
    {
     "name": "stdin",
     "output_type": "stream",
     "text": [
      " 3 2\n"
     ]
    }
   ],
   "source": [
    "codigo, qtd = map(int, input().split())"
   ]
  },
  {
   "cell_type": "code",
   "execution_count": 2,
   "id": "55ee7ce9-a002-4ff0-a5c6-852d9631fc7b",
   "metadata": {},
   "outputs": [
    {
     "name": "stdout",
     "output_type": "stream",
     "text": [
      "Total: R$ 10.0\n"
     ]
    }
   ],
   "source": [
    "cardapio = {1: 4.00,\n",
    "            2: 4.50,\n",
    "            3: 5.00,\n",
    "            4: 2.00,\n",
    "            5: 1.50}\n",
    "\n",
    "total = cardapio[codigo] * qtd\n",
    "print(f'Total: R$ {total}')"
   ]
  },
  {
   "cell_type": "markdown",
   "id": "77d24cc8-90a9-4a8d-a880-0c6e7875b6b8",
   "metadata": {},
   "source": [
    "---------"
   ]
  },
  {
   "metadata": {},
   "cell_type": "markdown",
   "source": "**1072 Intervalo 2**",
   "id": "5d941d33c176c1d9"
  },
  {
   "metadata": {},
   "cell_type": "markdown",
   "source": [
    "Leia um valor inteiro N. Este valor será a quantidade de valores inteiros X que serão lidos em seguida. <br>\n",
    "Mostre quantos destes valores X estão dentro do intervalo [10,20] e quantos estão fora do intervalo, mostrando essas informações."
   ],
   "id": "d79a059c6b3b74b9"
  },
  {
   "metadata": {
    "jupyter": {
     "is_executing": true
    }
   },
   "cell_type": "code",
   "source": "qtd = int(input())",
   "id": "fcb8ab6cfa57053d",
   "outputs": [],
   "execution_count": null
  },
  {
   "metadata": {},
   "cell_type": "code",
   "outputs": [],
   "execution_count": null,
   "source": "",
   "id": "cc15e81ca2bfb705"
  }
 ],
 "metadata": {
  "kernelspec": {
   "display_name": "Python 3 (ipykernel)",
   "language": "python",
   "name": "python3"
  },
  "language_info": {
   "codemirror_mode": {
    "name": "ipython",
    "version": 3
   },
   "file_extension": ".py",
   "mimetype": "text/x-python",
   "name": "python",
   "nbconvert_exporter": "python",
   "pygments_lexer": "ipython3",
   "version": "3.11.4"
  }
 },
 "nbformat": 4,
 "nbformat_minor": 5
}
