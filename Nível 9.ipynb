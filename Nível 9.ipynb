{
 "cells": [
  {
   "cell_type": "markdown",
   "id": "29fac18b-032e-4cf9-9d45-dfc72e7eb4f7",
   "metadata": {},
   "source": [
    "**1047\n",
    "Tempo de Jogo com Minutos**"
   ]
  },
  {
   "cell_type": "markdown",
   "id": "8a61e3c1-1070-4032-972d-2fb5530b0e93",
   "metadata": {},
   "source": [
    "\n",
    "\n",
    "Leia a hora inicial, minuto inicial, hora final e minuto final de um jogo. A seguir calcule a duração do jogo. <br>\n",
    "\n",
    "Obs: O jogo tem duração mínima de um (1) minuto e duração máxima de 24 horas.\n"
   ]
  },
  {
   "cell_type": "code",
   "execution_count": 1,
   "id": "163b4bcd-5a2f-4054-84ef-2cb0c10c48d3",
   "metadata": {},
   "outputs": [
    {
     "name": "stdin",
     "output_type": "stream",
     "text": [
      " 7 8 9 10\n"
     ]
    }
   ],
   "source": [
    "h_inicial, min_inicial, h_final, min_final = map(int, input().split())"
   ]
  },
  {
   "cell_type": "code",
   "execution_count": 2,
   "id": "d3f0fbbe-12f0-4a46-93ab-b4e382bf5493",
   "metadata": {},
   "outputs": [],
   "source": [
    "if h_inicial == h_final & min_inicial == min_final:\n",
    "    duracao_horas = 24\n",
    "    duracao_min = 0\n",
    "else:\n",
    "    inicio_min = (h_inicial * 60) + min_inicial\n",
    "    fim_min = (h_final * 60) + min_final\n",
    "    \n",
    "    diff_min = (fim_min - inicio_min + 24 * 60) % (24 * 60)\n",
    "    \n",
    "    duracao_horas = diff_min // 60\n",
    "    duracao_min = diff_min % 60"
   ]
  },
  {
   "cell_type": "code",
   "execution_count": 3,
   "id": "7473c3fc-38eb-4ae8-92a1-a407388049c6",
   "metadata": {},
   "outputs": [
    {
     "name": "stdout",
     "output_type": "stream",
     "text": [
      "O JOGO DUROU 2 HORA(S) E 2 MINUTO(S)\n"
     ]
    }
   ],
   "source": [
    "print(f'O JOGO DUROU {duracao_horas} HORA(S) E {duracao_min} MINUTO(S)')"
   ]
  },
  {
   "cell_type": "markdown",
   "id": "0eb65fb8-db0c-4bd4-841a-c85dba435893",
   "metadata": {},
   "source": [
    "---------"
   ]
  },
  {
   "cell_type": "code",
   "execution_count": null,
   "id": "814051e9-bd48-4e63-903e-8e83f413aa75",
   "metadata": {},
   "outputs": [],
   "source": []
  }
 ],
 "metadata": {
  "kernelspec": {
   "display_name": "Python 3 (ipykernel)",
   "language": "python",
   "name": "python3"
  },
  "language_info": {
   "codemirror_mode": {
    "name": "ipython",
    "version": 3
   },
   "file_extension": ".py",
   "mimetype": "text/x-python",
   "name": "python",
   "nbconvert_exporter": "python",
   "pygments_lexer": "ipython3",
   "version": "3.11.4"
  }
 },
 "nbformat": 4,
 "nbformat_minor": 5
}
