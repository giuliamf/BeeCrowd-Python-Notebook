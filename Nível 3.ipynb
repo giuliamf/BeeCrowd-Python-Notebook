{
 "cells": [
  {
   "cell_type": "markdown",
   "id": "c84096b9-d294-4f5c-b8aa-10f22f1ea384",
   "metadata": {},
   "source": [
    "**1010\n",
    "Cálculo Simples**"
   ]
  },
  {
   "cell_type": "markdown",
   "id": "e2e5d5d3-4eb6-443a-8a5b-2f0ae8e7971a",
   "metadata": {},
   "source": [
    "Neste problema, deve-se ler o código de uma peça 1, o número de peças 1, o valor unitário de cada peça 1, o código de uma peça 2, o número de peças 2 e o valor unitário de cada peça 2. Após, calcule e mostre o valor a ser pago com 2 casas após o ponto."
   ]
  },
  {
   "cell_type": "code",
   "execution_count": 1,
   "id": "785954e0-4723-46e1-a174-773b0d1cd53f",
   "metadata": {},
   "outputs": [
    {
     "name": "stdin",
     "output_type": "stream",
     "text": [
      " 12 1 5.30\n",
      " 16 2 5.10\n"
     ]
    }
   ],
   "source": [
    "codigo_um, numero_um, valor_um = map(float, input().split())\n",
    "codigo_dois, numero_dois, valor_dois = map(float, input().split())"
   ]
  },
  {
   "cell_type": "code",
   "execution_count": 3,
   "id": "72dcbfd7-ea3b-441a-9087-15c2f5ff08d0",
   "metadata": {},
   "outputs": [
    {
     "name": "stdout",
     "output_type": "stream",
     "text": [
      "VALOR A PAGAR: R$ 15.50\n"
     ]
    }
   ],
   "source": [
    "valor = (numero_um * valor_um) + (numero_dois * valor_dois)\n",
    "print(f'VALOR A PAGAR: R$ {valor:.2f}')"
   ]
  },
  {
   "cell_type": "markdown",
   "id": "a0a3e74f-42d4-4662-8637-93f3fa9be5c3",
   "metadata": {},
   "source": [
    "-----------"
   ]
  },
  {
   "cell_type": "markdown",
   "id": "d0078229-818a-4bea-ad0b-5d9c63421c1c",
   "metadata": {},
   "source": [
    "**1013\n",
    "O Maior**"
   ]
  },
  {
   "cell_type": "markdown",
   "id": "ebfdc665-5fc1-4cb6-b126-1021d733446e",
   "metadata": {},
   "source": [
    "Faça um programa que leia três valores e apresente o maior dos três valores lidos seguido da mensagem “eh o maior”. Utilize a fórmula: $$ MaiorAB = \\frac{a + b + abs(a - b)} {2} $$"
   ]
  },
  {
   "cell_type": "code",
   "execution_count": 9,
   "id": "9b026ce3-4479-4e6a-94cb-c8ad6ced674a",
   "metadata": {},
   "outputs": [
    {
     "name": "stdin",
     "output_type": "stream",
     "text": [
      " 217 14 6\n"
     ]
    }
   ],
   "source": [
    "numeros = tuple(map(int, input().split()))"
   ]
  },
  {
   "cell_type": "code",
   "execution_count": 10,
   "id": "f4066864-af16-4531-9f01-e4ea1af45162",
   "metadata": {},
   "outputs": [],
   "source": [
    "i = 1\n",
    "a = numeros[0]\n",
    "while i < len(numeros):\n",
    "    b = numeros[i]\n",
    "    maior = (a + b + abs(a - b)) / 2\n",
    "    a = maior\n",
    "    i += 1\n"
   ]
  },
  {
   "cell_type": "code",
   "execution_count": 11,
   "id": "cdef66e3-2408-4148-a645-54242925e5c6",
   "metadata": {},
   "outputs": [
    {
     "name": "stdout",
     "output_type": "stream",
     "text": [
      "217 eh o maior\n"
     ]
    }
   ],
   "source": [
    "print(f'{int(maior)} eh o maior')"
   ]
  },
  {
   "cell_type": "markdown",
   "id": "9595ae48-4d56-44e8-a466-4c8704bc0a09",
   "metadata": {},
   "source": [
    "------------"
   ]
  },
  {
   "cell_type": "markdown",
   "id": "1974bf05-7bb3-404b-ac54-2a82f993e9c1",
   "metadata": {},
   "source": [
    "**1036\n",
    "Fórmula de Bhaskara**"
   ]
  },
  {
   "cell_type": "markdown",
   "id": "7c45d518-7041-467e-8c53-5acc8cd01573",
   "metadata": {},
   "source": [
    "Leia 3 valores de ponto flutuante e efetue o cálculo das raízes da equação de Bhaskara. Se não for possível calcular as raízes, mostre a mensagem correspondente “Impossivel calcular”, caso haja uma divisão por 0 ou raiz de numero negativo."
   ]
  },
  {
   "cell_type": "code",
   "execution_count": 16,
   "id": "1264e37a-0442-4abe-9331-d66812409000",
   "metadata": {},
   "outputs": [
    {
     "name": "stdin",
     "output_type": "stream",
     "text": [
      " 10.0 20.1 5.1\n"
     ]
    }
   ],
   "source": [
    "a, b, c = map(float, input().split())"
   ]
  },
  {
   "cell_type": "code",
   "execution_count": 17,
   "id": "8383fd74-1675-4faf-8d0c-e82955e35138",
   "metadata": {},
   "outputs": [],
   "source": [
    "from math import sqrt"
   ]
  },
  {
   "cell_type": "code",
   "execution_count": 18,
   "id": "b9308e46-8a35-410d-a208-e94457c7715d",
   "metadata": {},
   "outputs": [
    {
     "name": "stdout",
     "output_type": "stream",
     "text": [
      "R1 = -0.29788\n",
      "R2 = -1.71212\n"
     ]
    }
   ],
   "source": [
    "delta = (b ** 2) - (4 * a * c)\n",
    "if delta >= 0 and a != 0.0:\n",
    "    R1 = (-b + sqrt(delta)) / (2 * a)\n",
    "    R2 = (-b - sqrt(delta)) / (2 * a)\n",
    "    print(f'R1 = {R1:.5f}\\nR2 = {R2:.5f}')\n",
    "else:\n",
    "    print(f'Impossivel calcular')"
   ]
  },
  {
   "cell_type": "markdown",
   "id": "b54bd5f0-7dd9-43b4-b7e3-320654d513f2",
   "metadata": {},
   "source": [
    "----------------"
   ]
  },
  {
   "cell_type": "markdown",
   "id": "6e1fc35e-0634-4474-a9db-4f4344466f38",
   "metadata": {},
   "source": [
    "**1037\n",
    "Intervalo**"
   ]
  },
  {
   "cell_type": "markdown",
   "id": "a6b9f598-d4b8-4528-95a8-8c66b9994df3",
   "metadata": {},
   "source": [
    "Você deve fazer um programa que leia um valor qualquer e apresente uma mensagem dizendo em qual dos seguintes intervalos ([0,25], (25,50], (50,75], (75,100]) este valor se encontra. Obviamente se o valor não estiver em nenhum destes intervalos, deverá ser impressa a mensagem “Fora de intervalo”. <br>\n",
    "O símbolo ( representa \"maior que\". Por exemplo: <br>\n",
    "[0,25]  indica valores entre 0 e 25.0000, inclusive eles. <br>\n",
    "(25,50] indica valores maiores que 25 Ex: 25.00001 até o valor 50.0000000"
   ]
  },
  {
   "cell_type": "code",
   "execution_count": 29,
   "id": "9caf4da4-7c87-4048-bc19-bf5791818bfc",
   "metadata": {},
   "outputs": [
    {
     "name": "stdin",
     "output_type": "stream",
     "text": [
      " -25.02\n"
     ]
    }
   ],
   "source": [
    "valor = float(input())"
   ]
  },
  {
   "cell_type": "code",
   "execution_count": 30,
   "id": "10c24951-0b2c-4cfb-b9e7-6b50c8e1d2c9",
   "metadata": {},
   "outputs": [
    {
     "name": "stdout",
     "output_type": "stream",
     "text": [
      "Fora de intervalo\n"
     ]
    }
   ],
   "source": [
    "if (valor >= 0) & (valor <= 25):\n",
    "    intervalo = '[0,25]'\n",
    "elif (valor > 25) & (valor <= 50):\n",
    "    intervalo = '(25,50]'\n",
    "elif (valor > 50) & (valor <= 75):\n",
    "    intervalo = '(50,75]'\n",
    "elif (valor > 75) & (valor <= 100):\n",
    "    intervalo = '(75,100]'\n",
    "else:\n",
    "    intervalo = ''\n",
    "\n",
    "print(f'Intervalo {intervalo}') if intervalo else print('Fora de intervalo')\n"
   ]
  },
  {
   "cell_type": "markdown",
   "id": "4cbb3a8a-2002-4f7f-b4e8-0b0738508d0b",
   "metadata": {},
   "source": [
    "----------"
   ]
  },
  {
   "cell_type": "markdown",
   "id": "21d9f50a-19ec-4ad4-98dd-bf93f9fd64fc",
   "metadata": {},
   "source": [
    "**1041\n",
    "Coordenadas de um Ponto**"
   ]
  },
  {
   "cell_type": "markdown",
   "id": "cf6a4e17-143e-4984-a108-c7c81b77c70a",
   "metadata": {},
   "source": [
    "Leia 2 valores com uma casa decimal (x e y), que devem representar as coordenadas de um ponto em um plano. A seguir, determine qual o quadrante ao qual pertence o ponto, ou se está sobre um dos eixos cartesianos ou na origem (x = y = 0). <br>\n",
    "Se o ponto estiver na origem, escreva a mensagem “Origem”. <br>\n",
    "Se o ponto estiver sobre um dos eixos escreva “Eixo X” ou “Eixo Y”, conforme for a situação."
   ]
  },
  {
   "cell_type": "code",
   "execution_count": 21,
   "id": "531d7a0f-49b6-40db-8822-b244711f6586",
   "metadata": {},
   "outputs": [
    {
     "name": "stdin",
     "output_type": "stream",
     "text": [
      " 4.5 -2.2\n"
     ]
    }
   ],
   "source": [
    "x, y = map(float, input().split())"
   ]
  },
  {
   "cell_type": "code",
   "execution_count": 22,
   "id": "204285cd-ac98-4e2e-9cce-0f1e4eb795b1",
   "metadata": {},
   "outputs": [
    {
     "name": "stdout",
     "output_type": "stream",
     "text": [
      "Q4\n"
     ]
    }
   ],
   "source": [
    "if x == 0 == y:\n",
    "    print('Origem')\n",
    "elif y == 0:\n",
    "    print('Eixo X')\n",
    "elif x == 0:\n",
    "    print('Eixo Y')\n",
    "else:\n",
    "    if x > 0 and y > 0:\n",
    "        print('Q1')\n",
    "    elif x < 0 and y > 0:\n",
    "        print('Q2')\n",
    "    elif x < 0 and y < 0:\n",
    "        print('Q3')\n",
    "    elif x > 0 and y < 0:\n",
    "        print('Q4')\n",
    "        "
   ]
  },
  {
   "cell_type": "markdown",
   "id": "46439489-fe83-496f-b1d1-1f4e2f99141e",
   "metadata": {},
   "source": [
    "------------"
   ]
  },
  {
   "cell_type": "markdown",
   "id": "c03776d3-5fa5-4d7f-a30f-9379d58eaf9b",
   "metadata": {},
   "source": [
    "**1049\n",
    "Animal**"
   ]
  },
  {
   "cell_type": "markdown",
   "id": "95fa80db-c6ee-4b36-a057-1b4edd1ae614",
   "metadata": {},
   "source": [
    "Neste problema, você deverá ler 3 palavras que definem o tipo de animal possível segundo o esquema abaixo, da esquerda para a direita.  Em seguida conclua qual dos animais seguintes foi escolhido, através das três palavras fornecidas. "
   ]
  },
  {
   "cell_type": "code",
   "execution_count": 70,
   "id": "596e49a7-2934-4bc5-b00c-aa9500376632",
   "metadata": {},
   "outputs": [
    {
     "name": "stdin",
     "output_type": "stream",
     "text": [
      " vertebrado\n",
      " mamifero\n",
      " onivoro\n"
     ]
    }
   ],
   "source": [
    "caracteristicaUm = input()\n",
    "caracteristicaDois = input()\n",
    "caracteristicaTres = input()"
   ]
  },
  {
   "cell_type": "code",
   "execution_count": 75,
   "id": "8c17ba19-b242-4bc6-a9ac-686e1bb39f89",
   "metadata": {},
   "outputs": [],
   "source": [
    "if caracteristicaUm == 'vertebrado':\n",
    "    \n",
    "    if caracteristicaDois == 'ave':\n",
    "        if caracteristicaTres == 'carnivoro':\n",
    "            resposta = 'aguia'\n",
    "        elif caracteristicaTres == 'onivoro':\n",
    "            resposta = 'pomba'\n",
    "\n",
    "    elif caracteristicaDois == 'mamifero':\n",
    "            if caracteristicaTres == 'onivoro':\n",
    "                resposta = 'homem'\n",
    "            elif caracteristicaTres == 'herbivoro':\n",
    "                resposta = 'vaca'\n",
    "\n",
    "elif caracteristicaUm == 'invertebrado':\n",
    "\n",
    "    if caracteristicaDois == 'inseto':\n",
    "        if caracteristicaTres == 'hematofago':\n",
    "            resposta = 'pulga'\n",
    "        elif caracteristicaTres == 'herbivoro':\n",
    "            resposta = 'lagarta'\n",
    "\n",
    "    elif caracteristicaDois == 'anelideo':\n",
    "        if caracteristicaTres == 'hematofago':\n",
    "            resposta = 'sanguessuga'\n",
    "        elif caracteristicaTres == 'onivoro':\n",
    "            resposta = 'minhoca'"
   ]
  },
  {
   "cell_type": "code",
   "execution_count": 76,
   "id": "7bf3db9a-f444-4373-ab3f-efc32b85c35a",
   "metadata": {},
   "outputs": [
    {
     "name": "stdout",
     "output_type": "stream",
     "text": [
      "homem\n"
     ]
    }
   ],
   "source": [
    "print(resposta)"
   ]
  },
  {
   "cell_type": "markdown",
   "id": "ef719c44-b431-469c-828d-1d4eb9520274",
   "metadata": {},
   "source": [
    "-----------"
   ]
  },
  {
   "cell_type": "code",
   "execution_count": null,
   "id": "c0449796-4c63-4d3b-aa0c-2bb952617314",
   "metadata": {},
   "outputs": [],
   "source": []
  }
 ],
 "metadata": {
  "kernelspec": {
   "display_name": "Python 3 (ipykernel)",
   "language": "python",
   "name": "python3"
  },
  "language_info": {
   "codemirror_mode": {
    "name": "ipython",
    "version": 3
   },
   "file_extension": ".py",
   "mimetype": "text/x-python",
   "name": "python",
   "nbconvert_exporter": "python",
   "pygments_lexer": "ipython3",
   "version": "3.11.4"
  }
 },
 "nbformat": 4,
 "nbformat_minor": 5
}
