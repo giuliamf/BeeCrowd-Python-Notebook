{
 "cells": [
  {
   "cell_type": "markdown",
   "id": "7d5806b2-6864-468c-a38a-63d23c56b6be",
   "metadata": {},
   "source": [
    "**1001 Extremamente Básico**"
   ]
  },
  {
   "cell_type": "markdown",
   "id": "20d3580d-3998-4778-869a-7b037038a101",
   "metadata": {},
   "source": [
    "Leia 2 valores inteiros e armazene-os nas variáveis A e B. Efetue a soma de A e B atribuindo o seu resultado na variável X. Imprima X conforme exemplo apresentado abaixo. Não apresente mensagem alguma além daquilo que está sendo especificado e não esqueça de imprimir o fim de linha após o resultado, caso contrário, você receberá \"Presentation Error\". "
   ]
  },
  {
   "cell_type": "markdown",
   "id": "e03efdaf-18f5-4ea8-a566-d58655b110b5",
   "metadata": {},
   "source": [
    "| Exemplo de entrada | Exemplo de saída\n",
    "|:---------------------|:------------:|\n",
    "| 10 <br>   9          |   X = 19     |"
   ]
  },
  {
   "cell_type": "code",
   "execution_count": 5,
   "id": "31ac545d-ab80-43cc-bbd9-01d6d6a17c46",
   "metadata": {},
   "outputs": [
    {
     "name": "stdin",
     "output_type": "stream",
     "text": [
      " 10\n",
      " 9\n"
     ]
    }
   ],
   "source": [
    "A = int(input())\n",
    "B = int(input())"
   ]
  },
  {
   "cell_type": "code",
   "execution_count": 6,
   "id": "4e34a29a-6d22-48de-8145-6173dee927c9",
   "metadata": {},
   "outputs": [
    {
     "name": "stdout",
     "output_type": "stream",
     "text": [
      " X = 19\n"
     ]
    }
   ],
   "source": [
    "X = A + B\n",
    "print(f' X = {X}')"
   ]
  },
  {
   "cell_type": "markdown",
   "id": "49beecdc-82a7-46a2-bceb-5f64fb0903ba",
   "metadata": {},
   "source": [
    "------------------------------------------------------------------------"
   ]
  },
  {
   "cell_type": "markdown",
   "id": "fb14c9ab-4c10-495f-8162-eeb1393f2e5f",
   "metadata": {},
   "source": [
    "**1002 Área do Círculo**"
   ]
  },
  {
   "cell_type": "markdown",
   "id": "ef64e5b8-7afc-4b88-ae9d-5d226b91d30c",
   "metadata": {},
   "source": [
    "A fórmula para calcular a área de uma circunferência é: area = π * raio^2. Considerando para este problema que π = 3.14159, efetue o cálculo da área, elevando o valor de raio ao quadrado e multiplicando por π. \n",
    "Apresente a mensagem \"A=\" seguido pelo valor da variável area, com 4 casas após o ponto decimal.\n"
   ]
  },
  {
   "cell_type": "code",
   "execution_count": 1,
   "id": "da3eab36-bfb3-4030-bace-1dd79678ad99",
   "metadata": {},
   "outputs": [
    {
     "name": "stdin",
     "output_type": "stream",
     "text": [
      " 2\n"
     ]
    }
   ],
   "source": [
    "raio = float(input())"
   ]
  },
  {
   "cell_type": "code",
   "execution_count": 3,
   "id": "cc4c7e43-2a28-4edc-bcb2-61d5db2f676e",
   "metadata": {},
   "outputs": [
    {
     "name": "stdout",
     "output_type": "stream",
     "text": [
      "A = 12.5664\n"
     ]
    }
   ],
   "source": [
    "area = 3.14159 * (raio ** 2)\n",
    "print(f'A = {area:.4f}')"
   ]
  },
  {
   "cell_type": "markdown",
   "id": "d0f667c9-562f-45d8-a78f-6ac9754e34cf",
   "metadata": {},
   "source": [
    "---------------------------------------------------------"
   ]
  },
  {
   "cell_type": "markdown",
   "id": "bd378b60-8fd0-4a55-8d52-aa733027b746",
   "metadata": {},
   "source": [
    "**1018\n",
    "Cédulas**"
   ]
  },
  {
   "cell_type": "markdown",
   "id": "39ea4bcb-c9e2-4426-848a-817719e8748a",
   "metadata": {},
   "source": [
    "Leia um valor inteiro. A seguir, calcule o menor número de notas possíveis (cédulas) no qual o valor pode ser decomposto. As notas consideradas são de 100, 50, 20, 10, 5, 2 e 1. A seguir mostre o valor lido e a relação de notas necessárias."
   ]
  },
  {
   "cell_type": "code",
   "execution_count": 1,
   "id": "c9e2a3d7-8038-421f-b5c8-13cc4b9ade30",
   "metadata": {},
   "outputs": [
    {
     "name": "stdin",
     "output_type": "stream",
     "text": [
      " 576\n"
     ]
    }
   ],
   "source": [
    "valor = int(input())"
   ]
  },
  {
   "cell_type": "code",
   "execution_count": 2,
   "id": "ad01c10b-a8ab-4978-bdd5-30c2169ab5c9",
   "metadata": {},
   "outputs": [
    {
     "name": "stdout",
     "output_type": "stream",
     "text": [
      "576\n",
      "5 nota(s) de R$ 100,00\n",
      "1 nota(s) de R$ 50,00\n",
      "1 nota(s) de R$ 20,00\n",
      "0 nota(s) de R$ 10,00\n",
      "1 nota(s) de R$ 5,00\n",
      "0 nota(s) de R$ 2,00\n",
      "1 nota(s) de R$ 1,00\n"
     ]
    }
   ],
   "source": [
    "print(valor)\n",
    "cedulas = [100, 50, 20, 10, 5, 2, 1]\n",
    "for i in cedulas:\n",
    "    qtd = valor // i\n",
    "    print(f'{qtd} nota(s) de R$ {i},00')\n",
    "    valor = valor - (i * qtd)    "
   ]
  },
  {
   "cell_type": "markdown",
   "id": "ad73effd-e3cb-4826-a7ed-227bc8d0ee58",
   "metadata": {},
   "source": [
    "-----------------"
   ]
  },
  {
   "cell_type": "markdown",
   "id": "980c644c-57b8-44e0-9882-9a160bf7fd3c",
   "metadata": {},
   "source": [
    "**1045\n",
    "Tipos de Triângulos**"
   ]
  },
  {
   "cell_type": "markdown",
   "id": "70b00898-af71-4da2-9471-7d820f04bf9d",
   "metadata": {},
   "source": [
    "Leia 3 valores de ponto flutuante A, B e C e ordene-os em ordem decrescente, de modo que o lado A representa o maior dos 3 lados. A seguir, determine o tipo de triângulo que estes três lados formam, com base nos seguintes casos, sempre escrevendo uma mensagem adequada:\n",
    "\n",
    "- se A ≥ B+C, apresente a mensagem: NAO FORMA TRIANGULO\n",
    "- se A² = B² + C², apresente a mensagem: TRIANGULO RETANGULO\n",
    "- se A² > B² + C², apresente a mensagem: TRIANGULO OBTUSANGULO\n",
    "- se A² < B² + C², apresente a mensagem: TRIANGULO ACUTANGULO\n",
    "- se os três lados forem iguais, apresente a mensagem: TRIANGULO EQUILATERO\n",
    "- se apenas dois dos lados forem iguais, apresente a mensagem: TRIANGULO ISOSCELES"
   ]
  },
  {
   "cell_type": "code",
   "execution_count": 6,
   "id": "f0f92364-fab0-4bd1-94fb-a05f54a6fa60",
   "metadata": {},
   "outputs": [
    {
     "name": "stdin",
     "output_type": "stream",
     "text": [
      " 7 5 7\n"
     ]
    }
   ],
   "source": [
    "pontos = list(map(float, input().split()))"
   ]
  },
  {
   "cell_type": "code",
   "execution_count": 11,
   "id": "7ca46f9f-1c51-4527-bbe7-1d76cce8f8d1",
   "metadata": {},
   "outputs": [],
   "source": [
    "a, b, c = sorted(pontos, reverse=True)"
   ]
  },
  {
   "cell_type": "code",
   "execution_count": 12,
   "id": "e9d80481-5e92-4a9f-a1d3-db7bb852b186",
   "metadata": {},
   "outputs": [],
   "source": [
    "from math import pow"
   ]
  },
  {
   "cell_type": "code",
   "execution_count": 19,
   "id": "1fe30514-b8f1-4b0a-a293-1aae813f8584",
   "metadata": {},
   "outputs": [
    {
     "name": "stdout",
     "output_type": "stream",
     "text": [
      "TRIANGULO ACUTANGULO\n"
     ]
    }
   ],
   "source": [
    "# tipo de triângulo\n",
    "triangulo = True\n",
    "if a >= (b + c):\n",
    "    print('NAO FORMA TRIANGULO')\n",
    "    triangulo = False\n",
    "elif pow(a, 2) == pow(b, 2) + pow(c, 2):\n",
    "    print('TRIANGULO RETANGULO')\n",
    "elif pow(a, 2) > pow(b, 2) + pow(c, 2):\n",
    "    print('TRIANGULO OBTUSANGULO')\n",
    "elif pow(a, 2) < pow(b, 2) + pow(c, 2):\n",
    "    print('TRIANGULO ACUTANGULO')"
   ]
  },
  {
   "cell_type": "code",
   "execution_count": 20,
   "id": "2527fe86-8227-47e2-97b3-2c2e273d25bc",
   "metadata": {},
   "outputs": [
    {
     "name": "stdout",
     "output_type": "stream",
     "text": [
      "TRIANGULO ISOSCELES\n"
     ]
    }
   ],
   "source": [
    "# tipo de triângulo em relação aos lados\n",
    "if triangulo:\n",
    "    if a == b == c:\n",
    "        print('TRIANGULO EQUILATERO')\n",
    "    else:\n",
    "        print('TRIANGULO ISOSCELES')"
   ]
  },
  {
   "cell_type": "markdown",
   "id": "c5a2c6e4-135e-4ba3-9cc7-33370cfbb625",
   "metadata": {},
   "source": [
    "-----------"
   ]
  },
  {
   "cell_type": "code",
   "execution_count": null,
   "id": "616bf5f2-612b-4ac9-af82-18ac3eac3875",
   "metadata": {},
   "outputs": [],
   "source": []
  }
 ],
 "metadata": {
  "kernelspec": {
   "display_name": "Python 3 (ipykernel)",
   "language": "python",
   "name": "python3"
  },
  "language_info": {
   "codemirror_mode": {
    "name": "ipython",
    "version": 3
   },
   "file_extension": ".py",
   "mimetype": "text/x-python",
   "name": "python",
   "nbconvert_exporter": "python",
   "pygments_lexer": "ipython3",
   "version": "3.11.4"
  }
 },
 "nbformat": 4,
 "nbformat_minor": 5
}
